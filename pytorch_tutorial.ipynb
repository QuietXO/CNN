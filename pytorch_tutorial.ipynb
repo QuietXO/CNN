{
 "cells": [
  {
   "cell_type": "markdown",
   "source": [
    "# **_PyTorch Basics_**\n",
    "\n",
    "#### _https://www.youtube.com/playlist?list=PLqnslRFeH2UrcDBWF5mfPGpqQDSta6VK4_"
   ],
   "metadata": {
    "collapsed": false
   }
  },
  {
   "cell_type": "markdown",
   "source": [
    "#### __*Call the Libraries & GPU*__"
   ],
   "metadata": {
    "collapsed": false
   }
  },
  {
   "cell_type": "code",
   "execution_count": null,
   "outputs": [],
   "source": [
    "import math\n",
    "import torch\n",
    "import torchvision                                   # 1st use: Dataset & Dataloader\n",
    "import torch.nn as nn                                # 1st use: Training Pipeline\n",
    "import numpy as np\n",
    "import matplotlib.pyplot as plt\n",
    "from sklearn import datasets                         # 1st use: Linear Regression\n",
    "from sklearn.preprocessing import StandardScaler     # 1st use: Logistic Regression\n",
    "from sklearn.model_selection import train_test_split # 1st use: Logistic Regression\n",
    "from torch.utils.data import Dataset, DataLoader     # 1st use: Dataset & Dataloader\n",
    "\n",
    "GPU = torch.device(\"cpu\")\n",
    "if torch.cuda.is_available():\n",
    "    GPU = torch.device(\"cuda\")\n",
    "\n",
    "print(\"Using CPU\") if GPU == torch.device(\"cpu\") else print(\"Using GPU\")"
   ],
   "metadata": {
    "collapsed": false
   }
  },
  {
   "cell_type": "markdown",
   "source": [
    "#### __*Create a Tensor and basic operations*__"
   ],
   "metadata": {
    "collapsed": false
   }
  },
  {
   "cell_type": "code",
   "execution_count": null,
   "outputs": [],
   "source": [
    "x = torch.tensor([[1, 1],[1, 1]], dtype=torch.float64)\n",
    "print(x)\n",
    "print(x.dtype)\n",
    "y = torch.rand(2, 2)\n",
    "print(y)\n",
    "print(f'{y.dtype}\\n')\n",
    "#z = x + y\n",
    "#print(z)\n",
    "\n",
    "#y = y.add(x)\n",
    "#y = torch.add(x, y) # add(+), sub(-), mul(*), div(/)\n",
    "y.add_(x) # in-place operation (same as line 10)\n",
    "print(y)"
   ],
   "metadata": {
    "collapsed": false
   }
  },
  {
   "cell_type": "markdown",
   "source": [
    "#### __*Select and view certain stuff*__"
   ],
   "metadata": {
    "collapsed": false
   }
  },
  {
   "cell_type": "code",
   "execution_count": null,
   "outputs": [],
   "source": [
    "x = torch.rand(5, 4)\n",
    "print(x, x.size())\n",
    "print(x[:, 0]) # print 1st column\n",
    "print(x[1, :]) # print 2nd row\n",
    "print(x[0, 0])\n",
    "print(x[0, 0].item()) # print a direct value\n",
    "\n",
    "y = x.view(5*4) # re-shapes the tensor into 1D\n",
    "print(y, y.size())\n",
    "\n",
    "y = x.view(-1, 10) # calculate the other value\n",
    "print(y, y.size())"
   ],
   "metadata": {
    "collapsed": false
   }
  },
  {
   "cell_type": "markdown",
   "source": [
    "#### __*Convert from torch to numpy and vice-versa*__"
   ],
   "metadata": {
    "collapsed": false
   }
  },
  {
   "cell_type": "code",
   "execution_count": null,
   "outputs": [],
   "source": [
    "x = torch.rand(5)\n",
    "print(x, type(x))\n",
    "y = x.numpy() # y shares the location with x, changing x will change y as well\n",
    "print(f'{y} {type(y)}\\n')\n",
    "\n",
    "x = np.ones(5)\n",
    "print(x, type(x))\n",
    "y = torch.from_numpy(x) # y shares the location with x, changing x will change y as well\n",
    "print(y, type(y))"
   ],
   "metadata": {
    "collapsed": false
   }
  },
  {
   "cell_type": "markdown",
   "source": [
    "#### __*Create a Tensor on the GPU*__"
   ],
   "metadata": {
    "collapsed": false
   }
  },
  {
   "cell_type": "code",
   "execution_count": null,
   "outputs": [],
   "source": [
    "x = torch.rand(5, device=GPU) # cannot be converted to numpy\n",
    "y = torch.rand(5)\n",
    "y = y.to(GPU)\n",
    "z = x + y\n",
    "z = z.to(\"cpu\")\n",
    "\n",
    "try:\n",
    "    x = x.numpy()\n",
    "except TypeError:\n",
    "    print(\"Cannot covert to GPU Tensor Numpy\")\n",
    "\n",
    "try:\n",
    "    z = z.numpy()\n",
    "    print(z, type(z))\n",
    "except TypeError:\n",
    "    print(\"Cannot covert to GPU Tensor Numpy\")"
   ],
   "metadata": {
    "collapsed": false
   }
  },
  {
   "cell_type": "markdown",
   "source": [
    "#### __*AutoGrad*__"
   ],
   "metadata": {
    "collapsed": false
   }
  },
  {
   "cell_type": "code",
   "execution_count": null,
   "outputs": [],
   "source": [
    "x = torch.randn(3, requires_grad=True)\n",
    "print(x)\n",
    "# ⌄⌄⌄ These methods will remove grad\n",
    "# x.requires_grad_(False)\n",
    "# x.detach_()\n",
    "# with torch.no_grad():\n",
    "#   y = x + 2\n",
    "\n",
    "y = x + 2\n",
    "print(y)\n",
    "\n",
    "z = y * y * 2\n",
    "z = z.mean()\n",
    "print(z)\n",
    "\n",
    "z.backward() # dz/dx\n",
    "print(x.grad)"
   ],
   "metadata": {
    "collapsed": false
   }
  },
  {
   "cell_type": "markdown",
   "source": [
    "#### __*Demo Dummy Function*__"
   ],
   "metadata": {
    "collapsed": false
   }
  },
  {
   "cell_type": "code",
   "execution_count": null,
   "outputs": [],
   "source": [
    "weights = torch.randn(4, requires_grad=True)\n",
    "\n",
    "for epoch in range(3):\n",
    "    model_output = (weights * 3).sum()\n",
    "    model_output.backward()\n",
    "    print(weights.grad)\n",
    "\n",
    "    weights.grad.zero_() # we have to clear the grad"
   ],
   "metadata": {
    "collapsed": false
   }
  },
  {
   "cell_type": "markdown",
   "source": [
    "#### __*Backpropagation*__"
   ],
   "metadata": {
    "collapsed": false
   }
  },
  {
   "cell_type": "code",
   "execution_count": null,
   "outputs": [],
   "source": [
    "x = torch.tensor(1.0)\n",
    "y = torch.tensor(2.0)\n",
    "\n",
    "w = torch.tensor(1.0, requires_grad=True)\n",
    "\n",
    "# forward pass and compute the loss\n",
    "y_hat = w * x\n",
    "loss = (y_hat - y)**2\n",
    "print(loss)\n",
    "\n",
    "# backward pass\n",
    "loss.backward()\n",
    "print(w.grad)\n",
    "\n",
    "### update weights\n",
    "### next forward and backward"
   ],
   "metadata": {
    "collapsed": false
   }
  },
  {
   "cell_type": "markdown",
   "source": [
    "#### __*Manual Gradient Descent*__"
   ],
   "metadata": {
    "collapsed": false
   }
  },
  {
   "cell_type": "code",
   "execution_count": null,
   "outputs": [],
   "source": [
    "# f = w * x\n",
    "# f = 2 * x\n",
    "\n",
    "X = np.array([1, 2, 3, 4], dtype=np.float32)\n",
    "Y = np.array([2, 4, 6, 8], dtype=np.float32)\n",
    "\n",
    "w = 0.0\n",
    "\n",
    "# model prediction\n",
    "def forward(x):\n",
    "    return w * x\n",
    "\n",
    "# loss = MSE\n",
    "def loss(y, y_predicted):\n",
    "    return ((y_predicted - y)**2).mean()\n",
    "\n",
    "# gradient\n",
    "# MSE = 1/N * (w*x - y)**2\n",
    "# dJ/dw = 1/N * 2x * (w*x - y)\n",
    "def gradiant(x, y, y_predicted):\n",
    "    return np.dot(2*x, y_predicted - y).mean()\n",
    "\n",
    "print(f'Prediction before training: f(5) = {forward(5):.3f}')\n",
    "\n",
    "# Training\n",
    "learning_rate = 0.01\n",
    "n_iters = 20\n",
    "\n",
    "for epoch in range(n_iters):\n",
    "    # prediction = forward pass\n",
    "    y_pred = forward(X)\n",
    "\n",
    "    #loss\n",
    "    L = loss(Y, y_pred)\n",
    "\n",
    "    # gradients\n",
    "    dw = gradiant(X, Y, y_pred)\n",
    "\n",
    "    # update weights\n",
    "    w -= learning_rate * dw\n",
    "\n",
    "    if epoch % 2 == 0:\n",
    "        print(f'epoch {epoch+1}: w = {w:.3f}, loss = {L:.8f}')\n",
    "\n",
    "print(f'Prediction after training: f(5) = {forward(5):.3f}')"
   ],
   "metadata": {
    "collapsed": false
   }
  },
  {
   "cell_type": "markdown",
   "source": [
    "#### __*Automatic Gradient Descent*__"
   ],
   "metadata": {
    "collapsed": false
   }
  },
  {
   "cell_type": "code",
   "execution_count": null,
   "outputs": [],
   "source": [
    "# f = w * x\n",
    "# f = 2 * x\n",
    "\n",
    "X = torch.tensor([1, 2, 3, 4], dtype=torch.float32)\n",
    "Y = torch.tensor([2, 4, 6, 8], dtype=torch.float32)\n",
    "\n",
    "w = torch.tensor(0.0, dtype=torch.float32, requires_grad=True)\n",
    "\n",
    "# model prediction\n",
    "def forward(x):\n",
    "    return w * x\n",
    "\n",
    "# loss = MSE\n",
    "def loss(y, y_predicted):\n",
    "    return ((y_predicted - y)**2).mean()\n",
    "\n",
    "print(f'Prediction before training: f(5) = {forward(5):.3f}')\n",
    "\n",
    "# Training\n",
    "learning_rate = 0.01\n",
    "n_iters = 80\n",
    "\n",
    "for epoch in range(n_iters):\n",
    "    # prediction = forward pass\n",
    "    y_pred = forward(X)\n",
    "\n",
    "    #loss\n",
    "    L = loss(Y, y_pred)\n",
    "\n",
    "    # gradients = backward pass\n",
    "    L.backward() # dL/dw\n",
    "\n",
    "    # update weights\n",
    "    with torch.no_grad():\n",
    "        w -= learning_rate * w.grad\n",
    "\n",
    "    # !!! ZERO the gradiants !!!\n",
    "    w.grad.zero_()\n",
    "\n",
    "    if epoch % int(n_iters/10) == 0:\n",
    "        print(f'epoch {epoch+1}: w = {w:.3f}, loss = {L:.8f}')\n",
    "\n",
    "print(f'Prediction after training: f(5) = {forward(5):.3f}')"
   ],
   "metadata": {
    "collapsed": false
   }
  },
  {
   "cell_type": "markdown",
   "source": [
    "#### __*Training Pipeline (Manual Prediction)*__"
   ],
   "metadata": {
    "collapsed": false
   }
  },
  {
   "cell_type": "code",
   "execution_count": null,
   "outputs": [],
   "source": [
    "# 1.) Design model (input, output size, forward pass)\n",
    "# 2.) Construct loss and optimizer\n",
    "# 3.) Training loop\n",
    "#       - forward pass: compute prediction\n",
    "#       - backward pass: gradients\n",
    "#       - update weights\n",
    "\n",
    "# f = w * x\n",
    "# f = 2 * x\n",
    "\n",
    "X = torch.tensor([1, 2, 3, 4], dtype=torch.float32)\n",
    "Y = torch.tensor([2, 4, 6, 8], dtype=torch.float32)\n",
    "\n",
    "w = torch.tensor(0.0, dtype=torch.float32, requires_grad=True)\n",
    "\n",
    "# model prediction\n",
    "def forward(x):\n",
    "    return w * x\n",
    "\n",
    "print(f'Prediction before training: f(5) = {forward(5):.3f}')\n",
    "\n",
    "# Training\n",
    "learning_rate = 0.01\n",
    "n_iters = 80\n",
    "\n",
    "loss = nn.MSELoss()\n",
    "optimizer = torch.optim.SGD([w], lr=learning_rate)\n",
    "\n",
    "for epoch in range(n_iters):\n",
    "    # prediction = forward pass\n",
    "    y_pred = forward(X)\n",
    "\n",
    "    #loss\n",
    "    L = loss(Y, y_pred)\n",
    "\n",
    "    # gradients = backward pass\n",
    "    L.backward() # dL/dw\n",
    "\n",
    "    # update weights\n",
    "    optimizer.step()\n",
    "\n",
    "    # !!! ZERO the gradiants !!!\n",
    "    optimizer.zero_grad()\n",
    "\n",
    "    if epoch % int(n_iters/10) == 0:\n",
    "        print(f'epoch {epoch+1}: w = {w:.3f}, loss = {L:.8f}')\n",
    "\n",
    "print(f'Prediction after training: f(5) = {forward(5):.3f}')"
   ],
   "metadata": {
    "collapsed": false
   }
  },
  {
   "cell_type": "markdown",
   "source": [
    "#### __*Training Pipeline (Automatic Prediction)*__"
   ],
   "metadata": {
    "collapsed": false
   }
  },
  {
   "cell_type": "code",
   "execution_count": null,
   "outputs": [],
   "source": [
    "# 1.) Design model (input, output size, forward pass)\n",
    "# 2.) Construct loss and optimizer\n",
    "# 3.) Training loop\n",
    "#       - forward pass: compute prediction\n",
    "#       - backward pass: gradients\n",
    "#       - update weights\n",
    "\n",
    "# f = w * x\n",
    "# f = 2 * x\n",
    "\n",
    "X = torch.tensor([[1], [2], [3], [4]], dtype=torch.float32) #, device=GPU)\n",
    "Y = torch.tensor([[2], [4], [6], [8]], dtype=torch.float32) #, device=GPU)\n",
    "\n",
    "X_test = torch.tensor([5], dtype=torch.float32) #, device=GPU)\n",
    "\n",
    "n_samples, n_features = X.shape\n",
    "print(n_samples, n_features)\n",
    "\n",
    "input_size = n_features\n",
    "output_size = n_features\n",
    "\n",
    "#model = nn.Linear(input_size, output_size) #, device=GPU)\n",
    "class LinearRegression(nn.Module):\n",
    "\n",
    "    def __init__(self, input_dim, output_dim):\n",
    "        super(LinearRegression, self).__init__()\n",
    "        # define layers\n",
    "        self.lin = nn.Linear(input_dim, output_dim)\n",
    "\n",
    "    def forward(self, x):\n",
    "        return self.lin(x)\n",
    "\n",
    "model = LinearRegression(input_size, output_size)\n",
    "\n",
    "print(f'Prediction before training: f(5) = {model(X_test).item():.3f}')\n",
    "\n",
    "# Training\n",
    "learning_rate = 0.001\n",
    "n_iters = 30000\n",
    "\n",
    "loss = nn.MSELoss()\n",
    "optimizer = torch.optim.SGD(model.parameters(), lr=learning_rate)\n",
    "\n",
    "for epoch in range(n_iters):\n",
    "    # prediction = forward pass\n",
    "    y_pred = model(X)\n",
    "\n",
    "    #loss\n",
    "    L = loss(Y, y_pred)\n",
    "\n",
    "    # gradients = backward pass\n",
    "    L.backward() # dL/dw\n",
    "\n",
    "    # update weights\n",
    "    optimizer.step()\n",
    "\n",
    "    # !!! ZERO the gradiants !!!\n",
    "    optimizer.zero_grad()\n",
    "\n",
    "    if epoch % int(n_iters/10) == 0:\n",
    "        [w, b] = model.parameters()\n",
    "        print(f'epoch {epoch+1}: w = {w[0][0].item():.3f}, loss = {L:.8f}')\n",
    "\n",
    "print(f'Prediction after training: f(5) = {model(X_test).item():.3f}')"
   ],
   "metadata": {
    "collapsed": false
   }
  },
  {
   "cell_type": "markdown",
   "source": [
    "#### __*Linear Regression*__"
   ],
   "metadata": {
    "collapsed": false
   }
  },
  {
   "cell_type": "code",
   "execution_count": null,
   "outputs": [],
   "source": [
    "# 0.) Data Preparation\n",
    "X_numpy, y_numpy = datasets.make_regression(n_samples=100, n_features=1, noise=20, random_state=1)\n",
    "\n",
    "X = torch.from_numpy(X_numpy.astype(np.float32))\n",
    "y = torch.from_numpy(y_numpy.astype(np.float32))\n",
    "y = y.view(y.shape[0], 1)\n",
    "\n",
    "n_samples, n_features = X.shape\n",
    "\n",
    "# 1.) Model\n",
    "input_size = n_features\n",
    "output_size = 1\n",
    "model = nn.Linear(input_size, output_size)\n",
    "\n",
    "# 2.) Loss & Optimizer\n",
    "learning_rate = 0.01\n",
    "criterion = nn.MSELoss()\n",
    "optimizer = torch.optim.SGD(model.parameters(), lr=learning_rate)\n",
    "\n",
    "# 3.) Training Loop\n",
    "num_epochs = 250\n",
    "for epoch in range(num_epochs):\n",
    "    # Forward Pass & Loss\n",
    "    y_predicted = model(X)\n",
    "    L = criterion(y_predicted, y)\n",
    "    # Backward Pass\n",
    "    L.backward()\n",
    "    #Update\n",
    "    optimizer.step()\n",
    "    #!!! Zero Gradiants !!!\n",
    "    optimizer.zero_grad()\n",
    "\n",
    "    if epoch % int(num_epochs/10) == 0:\n",
    "        print(f'epoch {epoch+1}: loss = {L.item():.8f}')\n",
    "\n",
    "# Plot\n",
    "predicted = model(X).detach().numpy()\n",
    "plt.plot(X_numpy, y_numpy, 'ro')\n",
    "plt.plot(X_numpy, predicted, 'b')\n",
    "plt.show()"
   ],
   "metadata": {
    "collapsed": false
   }
  },
  {
   "cell_type": "markdown",
   "source": [
    "#### __*Logistic Regression*__"
   ],
   "metadata": {
    "collapsed": false
   }
  },
  {
   "cell_type": "code",
   "execution_count": null,
   "outputs": [],
   "source": [
    "# 0.) Data Preparation\n",
    "bc = datasets.load_breast_cancer()\n",
    "X, y = bc.data, bc.target\n",
    "\n",
    "n_samples, n_features = X.shape\n",
    "\n",
    "X_train, X_test, y_train, y_test = train_test_split(X, y, test_size=0.2, random_state=1234)\n",
    "\n",
    "# Scale\n",
    "sc = StandardScaler() # recommended with Logistic Regression\n",
    "X_train = sc.fit_transform(X_train)\n",
    "X_test = sc.fit_transform(X_test)\n",
    "\n",
    "X_train = torch.from_numpy(X_train.astype(np.float32))\n",
    "#X_train = X_train.to(GPU)\n",
    "X_test = torch.from_numpy(X_test.astype(np.float32))\n",
    "#X_test = X_test.to(GPU)\n",
    "y_train = torch.from_numpy(y_train.astype(np.float32))\n",
    "#y_train = y_train.to(GPU)\n",
    "y_test = torch.from_numpy(y_test.astype(np.float32))\n",
    "#y_test = y_test.to(GPU)\n",
    "\n",
    "y_train = y_train.view(y_train.shape[0], 1)\n",
    "y_test = y_test.view(y_test.shape[0], 1)\n",
    "\n",
    "# 1.) Model\n",
    "# f = wx + b, Sigmoid at the End\n",
    "class LogisticRegression(nn.Module):\n",
    "\n",
    "    def __init__(self, n_input_features):\n",
    "        super(LogisticRegression, self).__init__()\n",
    "        self.linear = nn.Linear(n_input_features, 1)\n",
    "\n",
    "    def forward(self, x):\n",
    "        y_predicted = torch.sigmoid(self.linear(x))\n",
    "        return y_predicted\n",
    "\n",
    "model = LogisticRegression(n_features)\n",
    "#model = model.to(GPU)\n",
    "\n",
    "# 2.) Loss & Optimizer\n",
    "learning_rate = 0.01\n",
    "criterion = nn.BCELoss()\n",
    "optimizer = torch.optim.SGD(model.parameters(), lr=learning_rate)\n",
    "\n",
    "# 3.) Training Loop\n",
    "num_epochs = 10000\n",
    "for epoch in range(num_epochs):\n",
    "    # Forward Pass & Loss\n",
    "    y_predicted = model(X_train)\n",
    "    L = criterion(y_predicted, y_train)\n",
    "    # Backward Pass\n",
    "    L.backward()\n",
    "    #Update\n",
    "    optimizer.step()\n",
    "    #!!! Zero Gradiants !!!\n",
    "    optimizer.zero_grad()\n",
    "\n",
    "    if epoch % int(num_epochs/10) == 0:\n",
    "        print(f'epoch {epoch+1}: loss = {L.item():.8f}')\n",
    "\n",
    "with torch.no_grad():\n",
    "    y_predicted = model(X_test)\n",
    "    y_predicted_cls = y_predicted.round()\n",
    "    acc = y_predicted_cls.eq(y_test).sum() / float(y_test.shape[0])\n",
    "    print(f'Accuracy = {acc:.4f}')"
   ],
   "metadata": {
    "collapsed": false
   }
  },
  {
   "cell_type": "markdown",
   "source": [
    "#### __*Dataset & Dataloader*__\n",
    "<div class=\"alert alert-block alert-success\">\n",
    "\n",
    "__epoch = 1 forward & backward pass of ALL training samples__\n",
    "\n",
    "__batch_size = number of training samples in one forward & backward pass__\n",
    "\n",
    "__number of iterations = number of passes, each pass using [batch_size] number of samples__\n",
    "\n",
    "__e.g. 100 samples, batch_size=20 --> 100/20 = 5 iterations per 1 epoch?__\n",
    "</div>"
   ],
   "metadata": {
    "collapsed": false
   }
  },
  {
   "cell_type": "code",
   "execution_count": null,
   "outputs": [],
   "source": [
    "class WineDataset(Dataset):\n",
    "\n",
    "    def __init__(self):\n",
    "        # Load Data\n",
    "        xy = np.loadtxt('D:\\GitHub\\CNN\\datasets\\wine.csv', delimiter=',', dtype=np.float32, skiprows=1)\n",
    "        self.x = torch.from_numpy(xy[:, 1:])\n",
    "        self.y = torch.from_numpy(xy[:, [0]]) # n_samples, 1\n",
    "        self.n_samples = xy.shape[0]\n",
    "\n",
    "    def __getitem__(self, index):\n",
    "        return self.x[index], self.y[index]\n",
    "\n",
    "    def __len__(self):\n",
    "        return self.n_samples\n",
    "\n",
    "WineDataset = WineDataset()\n",
    "\n",
    "first_data = WineDataset[0]\n",
    "features, labels = first_data\n",
    "print(features, labels)"
   ],
   "metadata": {
    "collapsed": false
   }
  },
  {
   "cell_type": "markdown",
   "source": [
    "#### __*Dataset Transforms*__\n",
    "\n",
    "_https://pytorch.org/vision/stable/transforms.html_"
   ],
   "metadata": {
    "collapsed": false
   }
  },
  {
   "cell_type": "code",
   "execution_count": null,
   "outputs": [],
   "source": [
    "class WineDataset(Dataset):\n",
    "\n",
    "    def __init__(self, transform=None):\n",
    "        # Load Data\n",
    "        xy = np.loadtxt('D:\\GitHub\\CNN\\datasets\\wine.csv', delimiter=',', dtype=np.float32, skiprows=1)\n",
    "        self.n_samples = xy.shape[0]\n",
    "\n",
    "        self.x = xy[:, 1:]\n",
    "        self.y = xy[:, [0]]\n",
    "\n",
    "        self.transform = transform\n",
    "\n",
    "    def __getitem__(self, index):\n",
    "        sample = self.x[index], self.y[index]\n",
    "\n",
    "        if self.transform:\n",
    "            sample = self.transform(sample)\n",
    "\n",
    "        return sample\n",
    "\n",
    "    def __len__(self):\n",
    "        return self.n_samples\n",
    "\n",
    "\n",
    "class ToTensor:\n",
    "    def __call__(self, sample):\n",
    "        inputs, targets = sample\n",
    "        return torch.from_numpy(inputs), torch.from_numpy(targets)\n",
    "\n",
    "\n",
    "class MulTransform:\n",
    "    def __init__(self, factor):\n",
    "        self.factor = factor\n",
    "\n",
    "    def __call__(self, sample):\n",
    "        inputs, targets = sample\n",
    "        inputs *= self.factor\n",
    "        return inputs, targets\n",
    "\n",
    "\n",
    "WineDatasetNumpy = WineDataset(transform=None)\n",
    "first_data = WineDatasetNumpy[0]\n",
    "features, labels = first_data\n",
    "print(type(features), type(labels))\n",
    "print(f'{features}\\n')\n",
    "\n",
    "WineDatasetTensor = WineDataset(transform=ToTensor())\n",
    "first_data = WineDatasetTensor[0]\n",
    "features, labels = first_data\n",
    "print(type(features), type(labels))\n",
    "print(f'{features}\\n')\n",
    "\n",
    "# Combine more tranformations\n",
    "composed = torchvision.transforms.Compose([ToTensor(), MulTransform(2)])\n",
    "WineDatasetComposed = WineDataset(transform=composed)\n",
    "first_data = WineDatasetComposed[0]\n",
    "features, labels = first_data\n",
    "print(type(features), type(labels))\n",
    "print(features)"
   ],
   "metadata": {
    "collapsed": false
   }
  },
  {
   "cell_type": "markdown",
   "source": [
    "#### __*Softmax*__"
   ],
   "metadata": {
    "collapsed": false
   }
  },
  {
   "cell_type": "code",
   "execution_count": null,
   "outputs": [],
   "source": [
    "def softmax(x):\n",
    "    return (np.exp(x) / np.sum(np.exp(x), axis=0))\n",
    "\n",
    "x = np.array([2.0, 1.0, 0.1])\n",
    "outputs = softmax(x)\n",
    "print(f'Softmax Numpy: {outputs}')\n",
    "\n",
    "x = torch.tensor([2.0, 1.0, 0.1])\n",
    "outputs = torch.softmax(x, dim=0)\n",
    "print(f'Softmax Torch: {outputs}')"
   ],
   "metadata": {
    "collapsed": false
   }
  },
  {
   "cell_type": "markdown",
   "source": [],
   "metadata": {
    "collapsed": false
   }
  },
  {
   "cell_type": "code",
   "execution_count": null,
   "outputs": [],
   "source": [],
   "metadata": {
    "collapsed": false
   }
  }
 ],
 "metadata": {
  "kernelspec": {
   "display_name": "Python 3",
   "language": "python",
   "name": "python3"
  },
  "language_info": {
   "codemirror_mode": {
    "name": "ipython",
    "version": 2
   },
   "file_extension": ".py",
   "mimetype": "text/x-python",
   "name": "python",
   "nbconvert_exporter": "python",
   "pygments_lexer": "ipython2",
   "version": "2.7.6"
  }
 },
 "nbformat": 4,
 "nbformat_minor": 0
}
