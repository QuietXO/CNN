{
 "cells": [
  {
   "cell_type": "markdown",
   "source": [
    "# **_Chess Piece Classification_**\n",
    "\n",
    "### __*This CNN is supposed to determine what kind of Chess Piece is in the Image*__"
   ],
   "metadata": {
    "collapsed": false
   }
  },
  {
   "cell_type": "markdown",
   "source": [
    "<br>\n",
    "\n",
    "### __*Import Libraries and choose the device*__"
   ],
   "metadata": {
    "collapsed": false
   }
  },
  {
   "cell_type": "code",
   "execution_count": 141,
   "outputs": [
    {
     "name": "stdout",
     "output_type": "stream",
     "text": [
      "Using the Processor\n"
     ]
    }
   ],
   "source": [
    "# Import of the Libraries\n",
    "import os\n",
    "import csv\n",
    "import numpy as np\n",
    "import pandas as pd\n",
    "import random as rand\n",
    "import skimage\n",
    "import matplotlib.pyplot as plt\n",
    "\n",
    "# Torch libraries\n",
    "import torch\n",
    "import torchvision\n",
    "import torch.nn as nn\n",
    "from torch.utils.data import Dataset, DataLoader\n",
    "\n",
    "# Device config (Pick your set-up)\n",
    "GPU = torch.device('cpu')  # NVIDIA GPUs\n",
    "# GPU = torch.device('cuda' if torch.cuda.is_available() else 'cpu')  # NVIDIA GPUs\n",
    "# GPU = torch.device('mps' if torch.has_mps else 'cpu')  # ARM GPUs (M1, M2, ...)\n",
    "print('Using the Processor') if GPU == torch.device('cpu') else print('Using the Graphics Card')"
   ],
   "metadata": {
    "collapsed": false
   }
  },
  {
   "cell_type": "markdown",
   "source": [
    "<br>\n",
    "\n",
    "### __*Create the .csv file for Dataset*__"
   ],
   "metadata": {
    "collapsed": false
   }
  },
  {
   "cell_type": "code",
   "execution_count": 142,
   "outputs": [],
   "source": [
    "def create_csv( file_path, csv_path=False, train_csv=False, test_csv=False, rewrite=False, split=False, test_ratio=0.2):\n",
    "    translate = dict()                                  # Class : Number\n",
    "    categories = os.listdir(FILE_PATH)                  # Load all categories\n",
    "\n",
    "    # Create an indexing dictionary\n",
    "    for idx in range(len(categories)):\n",
    "        translate[categories[idx]] = idx\n",
    "\n",
    "\n",
    "    # Create one csv file\n",
    "    if not split:\n",
    "        if csv_path and not os.path.exists(csv_path) or rewrite:\n",
    "            file = open(csv_path, 'w', newline='')      # Create the csv file\n",
    "            writer = csv.writer(file)                   # Create a writer for csv file\n",
    "\n",
    "            # Create a .csv file of all images & their class\n",
    "            for idx in range(len(categories)):\n",
    "                tmp_path = os.path.join(file_path, categories[idx])  # File path + Sub-File\n",
    "                tmp_images = os.listdir(tmp_path)\n",
    "                for img in tmp_images:\n",
    "                    img_path = os.path.join(categories[idx], img)  # Sub-File + img\n",
    "                    writer.writerow((img_path, idx))    # Turn category into index\n",
    "            file.close()                                # Close the file\n",
    "\n",
    "\n",
    "    # Create train & test csv file\n",
    "    if split:\n",
    "        if (train_csv and test_csv) and (not os.path.exists(train_csv) or not os.path.exists(test_csv) or rewrite):\n",
    "            train_f = open(train_csv, 'w', newline='')  # Create the train csv file\n",
    "            test_f = open(test_csv, 'w', newline='')    # Create the test csv file\n",
    "            train_writer = csv.writer(train_f)          # Create a writer for train csv file\n",
    "            test_writer = csv.writer(test_f)            # Create a writer for test csv file\n",
    "\n",
    "            # Create the .csv files of all images & their class\n",
    "            for idx in range(len(categories)):\n",
    "                tmp_path = os.path.join(file_path, categories[idx])\n",
    "                tmp_images = os.listdir(tmp_path)\n",
    "                test_split = int(len(tmp_images) / 100 * (test_ratio * 100))\n",
    "                rand_dir = sorted(rand.sample(range(0, len(tmp_images)), test_split))\n",
    "                train_idx = 0\n",
    "                for img in tmp_images:\n",
    "                    img_path = os.path.join(categories[idx], img)\n",
    "                    if train_idx in rand_dir:\n",
    "                        test_writer.writerow((img_path, idx))\n",
    "                    else:\n",
    "                        train_writer.writerow((img_path, idx))\n",
    "                    train_idx += 1\n",
    "            train_f.close()                             # Close the file\n",
    "            test_f.close()                              # Close the file\n",
    "\n",
    "    return translate"
   ],
   "metadata": {
    "collapsed": false
   }
  },
  {
   "cell_type": "markdown",
   "source": [
    "<br>\n",
    "\n",
    "### __*Convert the Images into a Dataset*__"
   ],
   "metadata": {
    "collapsed": false
   }
  },
  {
   "cell_type": "code",
   "execution_count": 143,
   "outputs": [],
   "source": [
    "class ChessDataset(Dataset):\n",
    "\n",
    "    def __init__(self, file_path, csv_path, transform=None):\n",
    "        self.annotations = pd.read_csv(csv_path)\n",
    "        self.file_path = file_path\n",
    "        self.transform = transform\n",
    "\n",
    "    def __len__(self):\n",
    "        return len(self.annotations)\n",
    "\n",
    "    def __getitem__(self, index):\n",
    "        img_path = os.path.join(self.file_path, self.annotations.iloc[index, 0])\n",
    "        image = skimage.io.imread(img_path)\n",
    "        y_label = torch.tensor(self.annotations.iloc[index, 1])\n",
    "\n",
    "        if self.transform:\n",
    "            image = self.transform(image)\n",
    "\n",
    "        return image, y_label"
   ],
   "metadata": {
    "collapsed": false
   }
  },
  {
   "cell_type": "markdown",
   "source": [
    "<br>\n",
    "\n",
    "### __*Convolutional Neural Network*__"
   ],
   "metadata": {
    "collapsed": false
   }
  },
  {
   "cell_type": "code",
   "execution_count": 144,
   "outputs": [],
   "source": [
    "class ConvNet(nn.Module):\n",
    "    def __init__(self):\n",
    "        super(ConvNet, self).__init__()\n",
    "        # input = 3 colour channels, output = 6 (our choice), filter = 4*4 (our choice)\n",
    "        self.conv1 = nn.Conv2d(3, 6, 4)\n",
    "        self.pool = nn.MaxPool2d(2, 2)  # take 2*2, then move 2 px\n",
    "        # input = 6 channels, output = 16 (our choice), filter = 4*4 (our choice)\n",
    "        self.conv2 = nn.Conv2d(6, 16, 4)\n",
    "        self.fc1 = nn.Linear(16 * 19 * 19, 120)\n",
    "        self.fc2 = nn.Linear(120, 84)\n",
    "        self.fc3 = nn.Linear(84, 6)\n",
    "\n",
    "\n",
    "    def forward(self, x):\n",
    "        # -> n, 3, 85, 85\n",
    "        x = self.pool(torch.nn.functional.relu(self.conv1(x)))  # -> n, 6, 14, 14\n",
    "        x = self.pool(torch.nn.functional.relu(self.conv2(x)))  # -> n, 16, 5, 5\n",
    "        x = x.view(-1, 16 * 19 * 19)                            # -> n, 400\n",
    "        x = torch.nn.functional.relu(self.fc1(x))               # -> n, 120\n",
    "        x = torch.nn.functional.relu(self.fc2(x))               # -> n, 84\n",
    "        x = self.fc3(x)                                         # -> n, 10\n",
    "        return x"
   ],
   "metadata": {
    "collapsed": false
   }
  },
  {
   "cell_type": "markdown",
   "source": [
    "<br>\n",
    "\n",
    "### __*Training Preparation (Set all variables here)*__"
   ],
   "metadata": {
    "collapsed": false
   }
  },
  {
   "cell_type": "code",
   "execution_count": 145,
   "outputs": [],
   "source": [
    "# Hyper-parameters\n",
    "num_epochs = 5\n",
    "batch_size = 1\n",
    "learning_rate = 0.01\n",
    "\n",
    "# Image Dimensions\n",
    "IMG_SIZE = 85  # 85*85 pixels\n",
    "\n",
    "# Define the directory\n",
    "FILE_PATH = './data/chess/pieces'           # Sub-Folders Location\n",
    "CSV_PATH = './data/chess/data.csv'          # CSV Location\n",
    "TRAIN_CSV = './data/chess/train_data.csv'   # Train CSV Location\n",
    "TEST_CSV = './data/chess/test_data.csv'     # Test CSV Location\n",
    "CATEGORIES = os.listdir(FILE_PATH)          # Turn Sub-Folder names into a list\n",
    "\n",
    "\n",
    "# ___ PyTorch Splitting Method ________________________________________________________________\n",
    "# Create the .csv file & dictionary\n",
    "create_csv(FILE_PATH, CSV_PATH)\n",
    "\n",
    "# Create the Datasets\n",
    "dataset = ChessDataset(FILE_PATH, CSV_PATH, transform=torchvision.transforms.ToTensor())\n",
    "n_80 = int(len(dataset) / 100 * 80)  # 80% for training\n",
    "n_20 = int(len(dataset) - n_80)      # 20% for testing\n",
    "\n",
    "# train_dataset, test_dataset = torch.utils.data.random_split(dataset,[n_80, n_20])\n",
    "# ---------------------------------------------------------------------------------------------\n",
    "\n",
    "\n",
    "# ___ CSV Splitting Method ____________________________________________________________________\n",
    "# Create the .csv file & dictionary\n",
    "indexing = create_csv(FILE_PATH, train_csv=TRAIN_CSV, test_csv=TEST_CSV,\n",
    "                      rewrite=True, split=True, test_ratio=0.2)\n",
    "\n",
    "# Create the Datasets\n",
    "train_dataset = ChessDataset(FILE_PATH, TRAIN_CSV, transform=torchvision.transforms.ToTensor())\n",
    "test_dataset = ChessDataset(FILE_PATH, TEST_CSV, transform=torchvision.transforms.ToTensor())\n",
    "# ---------------------------------------------------------------------------------------------\n",
    "\n",
    "\n",
    "# Create the DataLoaders\n",
    "train_loader = DataLoader(dataset=train_dataset, batch_size=batch_size, shuffle=True)\n",
    "test_loader = DataLoader(dataset=test_dataset, batch_size=batch_size)\n",
    "\n",
    "# Create the Model\n",
    "model = ConvNet().to(GPU)\n",
    "\n",
    "# Choose type of Loss & Optimization function\n",
    "criterion = nn.CrossEntropyLoss()\n",
    "optimizer = torch.optim.SGD(model.parameters(), lr=learning_rate)"
   ],
   "metadata": {
    "collapsed": false
   }
  },
  {
   "cell_type": "markdown",
   "source": [
    "#### __*Look at some data*__"
   ],
   "metadata": {
    "collapsed": false
   }
  },
  {
   "cell_type": "code",
   "execution_count": 146,
   "outputs": [
    {
     "name": "stdout",
     "output_type": "stream",
     "text": [
      "Translate: {'pawn': 0, 'queen': 1, 'rook': 2, 'bishop': 3, 'king': 4, 'knight': 5}\n",
      "N. of images: 516 | Training: 412 | Testing: 104\n",
      "[(0, 191), (1, 28), (2, 58), (3, 54), (4, 28), (5, 57)]\n",
      "[(0, 46), (1, 6), (2, 14), (3, 13), (4, 6), (5, 14)]\n",
      "torch.Size([1, 3, 85, 85])\n"
     ]
    },
    {
     "data": {
      "text/plain": "<Figure size 640x480 with 1 Axes>",
      "image/png": "[encoded data removed]"
     },
     "metadata": {},
     "output_type": "display_data"
    }
   ],
   "source": [
    "def imshow(img):\n",
    "    img = img / 2 + 0.5  # un-normalize\n",
    "    np_img = img.numpy()\n",
    "    plt.imshow(np.transpose(np_img, (1, 2, 0)))\n",
    "    plt.show()\n",
    "\n",
    "\n",
    "# Print Translation\n",
    "print(f'Translate: {indexing}')\n",
    "print(f'N. of images: {len(dataset)} | Training: {n_80} | Testing: {n_20}')\n",
    "\n",
    "# Get dataset distribution\n",
    "train_dct = dict()\n",
    "for item in train_dataset:\n",
    "    try:\n",
    "        train_dct[item[1].item()] += 1\n",
    "    except KeyError:\n",
    "        train_dct[item[1].item()] = 1\n",
    "print(sorted(train_dct.items()))\n",
    "\n",
    "test_dct = dict()\n",
    "for item in test_dataset:\n",
    "    try:\n",
    "        test_dct[item[1].item()] += 1\n",
    "    except KeyError:\n",
    "        test_dct[item[1].item()] = 1\n",
    "print(sorted(test_dct.items()))\n",
    "\n",
    "# Get some random training images\n",
    "dataiter = iter(train_loader)\n",
    "images, labels = next(dataiter)\n",
    "print(images.shape)\n",
    "\n",
    "# Show images\n",
    "imshow(torchvision.utils.make_grid(images))"
   ],
   "metadata": {
    "collapsed": false
   }
  },
  {
   "cell_type": "markdown",
   "source": [
    "<br>\n",
    "\n",
    "### __*Training Loop (Works Automatically)*__"
   ],
   "metadata": {
    "collapsed": false
   }
  },
  {
   "cell_type": "code",
   "execution_count": 147,
   "outputs": [
    {
     "name": "stdout",
     "output_type": "stream",
     "text": [
      "Epoch 1 / 5 | Step 200 / 416 | Loss: 0.1675\n",
      "Epoch 1 / 5 | Step 400 / 416 | Loss: 0.1543\n",
      "Epoch 2 / 5 | Step 200 / 416 | Loss: 0.1673\n",
      "Epoch 2 / 5 | Step 400 / 416 | Loss: 0.1228\n",
      "Epoch 3 / 5 | Step 200 / 416 | Loss: 0.1016\n",
      "Epoch 3 / 5 | Step 400 / 416 | Loss: 0.0720\n",
      "Epoch 4 / 5 | Step 200 / 416 | Loss: 0.0377\n",
      "Epoch 4 / 5 | Step 400 / 416 | Loss: 0.0335\n",
      "Epoch 5 / 5 | Step 200 / 416 | Loss: 0.0182\n",
      "Epoch 5 / 5 | Step 400 / 416 | Loss: 0.0227\n",
      "--- Training Finished ---\n",
      "Accuracy of the Model: 97.9798 %\n",
      "Accuracy of pawn: 100.0000 %\n",
      "Accuracy of queen: 83.3333 %\n",
      "Accuracy of rook: 92.8571 %\n",
      "Accuracy of bishop: 100.0000 %\n",
      "Accuracy of king: 100.0000 %\n",
      "Accuracy of knight: 100.0000 %\n"
     ]
    }
   ],
   "source": [
    "# Variables for\n",
    "n_total_steps = len(train_loader)\n",
    "mean_loss = 0\n",
    "\n",
    "for epoch in range(num_epochs):\n",
    "    for i, (images, labels) in enumerate(train_loader):\n",
    "        # Origin shape: [4, 3, 32, 32] = 4, 3, 1024\n",
    "        # input_layer: 3 input channels, 6 output channels, 5 kernel size\n",
    "        images = images.to(GPU)\n",
    "        labels = labels.to(GPU)\n",
    "\n",
    "        # Forward pass\n",
    "        outputs = model(images)\n",
    "        loss = criterion(outputs, labels)\n",
    "        mean_loss += loss.item()\n",
    "\n",
    "        # Backward & optimize\n",
    "        optimizer.zero_grad()\n",
    "        loss.backward()\n",
    "        optimizer.step()\n",
    "\n",
    "        if (i+1) % 200 == 0:\n",
    "            print(f'Epoch {epoch + 1} / {num_epochs} | Step {i+1} / {n_total_steps} | '\n",
    "                  f'Loss: {(mean_loss/2000):.4f}')\n",
    "            mean_loss = 0\n",
    "\n",
    "print('--- Training Finished ---')\n",
    "PATH = './chess.pth'\n",
    "torch.save(model.state_dict(), PATH)\n",
    "\n",
    "with torch.no_grad():\n",
    "    n_correct = 0\n",
    "    n_samples = 0\n",
    "    n_class_correct = [0 for i in range(6)]\n",
    "    n_class_samples = [0 for i in range(6)]\n",
    "    for images, labels in test_loader:\n",
    "        images = images.to(GPU)\n",
    "        labels = labels.to(GPU)\n",
    "        outputs = model(images)\n",
    "        # max returns (value ,index)\n",
    "        _, predicted = torch.max(outputs, 1)\n",
    "        n_samples += labels.size(0)\n",
    "        n_correct += (predicted == labels).sum().item()\n",
    "\n",
    "        for i in range(batch_size):\n",
    "            label = labels[i]\n",
    "            pred = predicted[i]\n",
    "            if label == pred:\n",
    "                n_class_correct[label] += 1\n",
    "            n_class_samples[label] += 1\n",
    "\n",
    "    accuracy = 100.0 * n_correct / n_samples\n",
    "    print(f'Accuracy of the Model: {accuracy:.4f} %')\n",
    "\n",
    "    for i in range(6):\n",
    "        accuracy = 100.0 * n_class_correct[i] / n_class_samples[i]\n",
    "        print(f'Accuracy of {CATEGORIES[i]}: {accuracy:.4f} %')"
   ],
   "metadata": {
    "collapsed": false
   }
  }
 ],
 "metadata": {
  "kernelspec": {
   "display_name": "Python 3",
   "language": "python",
   "name": "python3"
  },
  "language_info": {
   "codemirror_mode": {
    "name": "ipython",
    "version": 2
   },
   "file_extension": ".py",
   "mimetype": "text/x-python",
   "name": "python",
   "nbconvert_exporter": "python",
   "pygments_lexer": "ipython2",
   "version": "2.7.6"
  }
 },
 "nbformat": 4,
 "nbformat_minor": 0
}
