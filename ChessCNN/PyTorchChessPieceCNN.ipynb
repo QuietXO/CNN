{
 "cells": [
  {
   "cell_type": "markdown",
   "source": [
    "# **_Chess Piece Classification_**\n",
    "\n",
    "### __*This CNN is supposed to determine what kind of Chess Piece is in the Image*__"
   ],
   "metadata": {
    "collapsed": false
   }
  },
  {
   "cell_type": "markdown",
   "source": [
    "<br>\n",
    "\n",
    "### __*Import Libraries and choose the device*__"
   ],
   "metadata": {
    "collapsed": false
   }
  },
  {
   "cell_type": "code",
   "execution_count": 136,
   "outputs": [
    {
     "name": "stdout",
     "output_type": "stream",
     "text": [
      "Using the Processor\n"
     ]
    }
   ],
   "source": [
    "import csv\n",
    "# Import of the Libraries\n",
    "import os\n",
    "import numpy as np\n",
    "import pandas as pd\n",
    "import skimage\n",
    "import matplotlib.pyplot as plt\n",
    "\n",
    "# Torch libraries\n",
    "import torch\n",
    "import torchvision\n",
    "import torch.nn as nn\n",
    "from torch.utils.data import Dataset, DataLoader\n",
    "\n",
    "# Device config (Pick your set-up)\n",
    "GPU = torch.device('cpu')  # NVIDIA GPUs\n",
    "# GPU = torch.device('cuda' if torch.cuda.is_available() else 'cpu')  # NVIDIA GPUs\n",
    "# GPU = torch.device('mps' if torch.has_mps else 'cpu')  # ARM GPUs (M1, M2, ...)\n",
    "print('Using the Processor') if GPU == torch.device('cpu') else print('Using the Graphics Card')\n",
    "\n",
    "# Image Dimensions\n",
    "IMG_SIZE = 85  # 85*85 pixels"
   ],
   "metadata": {
    "collapsed": false
   }
  },
  {
   "cell_type": "markdown",
   "source": [
    "<br>\n",
    "\n",
    "### __*Create the .csv file for Dataset*__"
   ],
   "metadata": {
    "collapsed": false
   }
  },
  {
   "cell_type": "code",
   "execution_count": 137,
   "outputs": [],
   "source": [
    "def create_csv(csv_path, file_path, rewrite=False):\n",
    "    if not os.path.exists(csv_path) or rewrite:\n",
    "        file = open(csv_path, 'w', newline='')  # Create the file\n",
    "        writer = csv.writer(file)               # Create the writer\n",
    "        categories = os.listdir(FILE_PATH)      # Load all categories\n",
    "        translate = dict()                      # Class : Number\n",
    "\n",
    "        # Create a .csv file of all images & their class\n",
    "        for idx in range(len(categories)):\n",
    "            translate[idx] = [categories[idx]]\n",
    "            tmp_path = os.path.join(file_path, categories[idx])\n",
    "            tmp_images = os.listdir(tmp_path)\n",
    "            for img in tmp_images:\n",
    "                img_path = os.path.join(categories[idx], img)  # Sub-File + img\n",
    "                writer.writerow((img_path, idx))  # Turn category into index\n",
    "\n",
    "        file.close()                            # Close the file\n",
    "        return translate"
   ],
   "metadata": {
    "collapsed": false
   }
  },
  {
   "cell_type": "markdown",
   "source": [
    "<br>\n",
    "\n",
    "### __*Convert the Images into a Dataset*__"
   ],
   "metadata": {
    "collapsed": false
   }
  },
  {
   "cell_type": "code",
   "execution_count": 138,
   "outputs": [],
   "source": [
    "class ChessDataset(Dataset):\n",
    "\n",
    "    def __init__(self, csv_path, file_path, transform=None):\n",
    "        self.annotations = pd.read_csv(csv_path)\n",
    "        self.file_path = file_path\n",
    "        self.transform = transform\n",
    "\n",
    "    def __len__(self):\n",
    "        return len(self.annotations)\n",
    "\n",
    "    def __getitem__(self, index):\n",
    "        img_path = os.path.join(self.file_path, self.annotations.iloc[index, 0])\n",
    "        image = skimage.io.imread(img_path)\n",
    "        y_label = torch.tensor(self.annotations.iloc[index, 1])\n",
    "\n",
    "        if self.transform:\n",
    "            image = self.transform(image)\n",
    "\n",
    "        return image, y_label"
   ],
   "metadata": {
    "collapsed": false
   }
  },
  {
   "cell_type": "markdown",
   "source": [
    "<br>\n",
    "\n",
    "### __*Convolutional Neural Network*__"
   ],
   "metadata": {
    "collapsed": false
   }
  },
  {
   "cell_type": "code",
   "execution_count": 139,
   "outputs": [],
   "source": [
    "class ConvNet(nn.Module):\n",
    "    def __init__(self):\n",
    "        super(ConvNet, self).__init__()\n",
    "        # input = 3 colour channels, output = 6 (our choice), filter = 4*4 (our choice)\n",
    "        self.conv1 = nn.Conv2d(3, 6, 4)\n",
    "        self.pool = nn.MaxPool2d(2, 2)  # take 2*2, then move 2 px\n",
    "        # input = 6 channels, output = 16 (our choice), filter = 4*4 (our choice)\n",
    "        self.conv2 = nn.Conv2d(6, 16, 4)\n",
    "        self.fc1 = nn.Linear(16 * 19 * 19, 120)\n",
    "        self.fc2 = nn.Linear(120, 84)\n",
    "        self.fc3 = nn.Linear(84, 10)\n",
    "\n",
    "\n",
    "    def forward(self, x):\n",
    "        # -> n, 3, 85, 85\n",
    "        x = self.pool(torch.nn.functional.relu(self.conv1(x)))  # -> n, 6, 14, 14\n",
    "        x = self.pool(torch.nn.functional.relu(self.conv2(x)))  # -> n, 16, 5, 5\n",
    "        x = x.view(-1, 16 * 19 * 19)                            # -> n, 400\n",
    "        x = torch.nn.functional.relu(self.fc1(x))               # -> n, 120\n",
    "        x = torch.nn.functional.relu(self.fc2(x))               # -> n, 84\n",
    "        x = self.fc3(x)                                         # -> n, 10\n",
    "        return x"
   ],
   "metadata": {
    "collapsed": false
   }
  },
  {
   "cell_type": "markdown",
   "source": [
    "<br>\n",
    "\n",
    "### __*Training Preparation*__"
   ],
   "metadata": {
    "collapsed": false
   }
  },
  {
   "cell_type": "code",
   "execution_count": 140,
   "outputs": [
    {
     "name": "stdout",
     "output_type": "stream",
     "text": [
      "Translate: {0: ['pawn'], 1: ['queen'], 2: ['rook'], 3: ['bishop'], 4: ['king'], 5: ['knight']}\n",
      "N. of images: 516 | Training: 412 | Testing: 104\n",
      "(tensor([[[0.3961, 0.6706, 0.7451,  ..., 0.7647, 0.7725, 0.7686],\n",
      "         [0.4000, 0.6627, 0.7451,  ..., 0.7686, 0.7725, 0.7686],\n",
      "         [0.3882, 0.6667, 0.7451,  ..., 0.7725, 0.7725, 0.7725],\n",
      "         ...,\n",
      "         [0.4235, 0.6706, 0.7451,  ..., 0.7647, 0.7569, 0.7569],\n",
      "         [0.6392, 0.5686, 0.5412,  ..., 0.5255, 0.5333, 0.5255],\n",
      "         [0.7647, 0.5020, 0.4118,  ..., 0.3882, 0.4039, 0.3961]],\n",
      "\n",
      "        [[0.3804, 0.6392, 0.7098,  ..., 0.7451, 0.7490, 0.7412],\n",
      "         [0.3843, 0.6392, 0.7176,  ..., 0.7451, 0.7490, 0.7451],\n",
      "         [0.3725, 0.6353, 0.7216,  ..., 0.7451, 0.7451, 0.7412],\n",
      "         ...,\n",
      "         [0.4078, 0.6392, 0.7098,  ..., 0.7529, 0.7412, 0.7294],\n",
      "         [0.6196, 0.5451, 0.5176,  ..., 0.5098, 0.5137, 0.5059],\n",
      "         [0.7412, 0.4824, 0.4000,  ..., 0.3725, 0.3882, 0.3804]],\n",
      "\n",
      "        [[0.3647, 0.5804, 0.6275,  ..., 0.6588, 0.6627, 0.6627],\n",
      "         [0.3647, 0.5765, 0.6314,  ..., 0.6627, 0.6627, 0.6667],\n",
      "         [0.3569, 0.5765, 0.6392,  ..., 0.6588, 0.6627, 0.6588],\n",
      "         ...,\n",
      "         [0.3843, 0.5804, 0.6353,  ..., 0.6784, 0.6667, 0.6549],\n",
      "         [0.5608, 0.5020, 0.4784,  ..., 0.4745, 0.4745, 0.4706],\n",
      "         [0.6588, 0.4510, 0.3765,  ..., 0.3569, 0.3686, 0.3647]]]), tensor(0))\n"
     ]
    },
    {
     "data": {
      "text/plain": "<Figure size 640x480 with 1 Axes>",
      "image/png": "[encoded data removed]"
     },
     "metadata": {},
     "output_type": "display_data"
    }
   ],
   "source": [
    "# Define the directory\n",
    "FILE_PATH = './data/chess/pieces'   # Sub-Folders Location\n",
    "CSV_PATH = './data/chess/data.csv'  # CSV Location\n",
    "CATEGORIES = os.listdir(FILE_PATH)  # Turn Sub-Folder names into a list\n",
    "\n",
    "# Hyper-parameters\n",
    "num_epochs = 5\n",
    "batch_size = 1\n",
    "learning_rate = 0.001\n",
    "\n",
    "# Create the .csv file & dictionary\n",
    "indexing = create_csv(CSV_PATH, FILE_PATH, rewrite=True)\n",
    "print(f'Translate: {indexing}')\n",
    "\n",
    "# Create the Datasets & DataLoaders\n",
    "dataset = ChessDataset(CSV_PATH, FILE_PATH, torchvision.transforms.ToTensor())\n",
    "n_80 = int(len(dataset) / 100 * 80)  # 80% for training\n",
    "n_20 = int(len(dataset) - n_80)      # 20% for testing\n",
    "print(f'N. of images: {len(dataset)} | Training: {n_80} | Testing: {n_20}')\n",
    "\n",
    "train_dataset, test_dataset = torch.utils.data.random_split(dataset,[n_80, n_20])\n",
    "print(test_dataset[0])\n",
    "\n",
    "train_loader = DataLoader(dataset=train_dataset, batch_size=batch_size, shuffle=True)\n",
    "test_loader = DataLoader(dataset=test_dataset, batch_size=batch_size)\n",
    "\n",
    "# Create the Model\n",
    "model = ConvNet().to(GPU)\n",
    "\n",
    "# Choose type of Loss & Optimization function\n",
    "criterion = nn.CrossEntropyLoss()\n",
    "optimizer = torch.optim.SGD(model.parameters(), lr=learning_rate)\n",
    "\n",
    "\n",
    "def imshow(img):\n",
    "    img = img / 2 + 0.5  # un-normalize\n",
    "    np_img = img.numpy()\n",
    "    plt.imshow(np.transpose(np_img, (1, 2, 0)))\n",
    "    plt.show()\n",
    "\n",
    "\n",
    "# Get some random training images\n",
    "dataiter = iter(train_loader)\n",
    "images, labels = next(dataiter)\n",
    "# print(images.shape)\n",
    "\n",
    "# Show images\n",
    "imshow(torchvision.utils.make_grid(images))"
   ],
   "metadata": {
    "collapsed": false
   }
  },
  {
   "cell_type": "markdown",
   "source": [
    "<br>\n",
    "\n",
    "### __*Training Loop*__"
   ],
   "metadata": {
    "collapsed": false
   }
  },
  {
   "cell_type": "code",
   "execution_count": 144,
   "outputs": [
    {
     "name": "stdout",
     "output_type": "stream",
     "text": [
      "Epoch 1 / 5 | Step 100 / 412 | Loss: 0.0563\n",
      "Epoch 1 / 5 | Step 200 / 412 | Loss: 0.0627\n",
      "Epoch 1 / 5 | Step 300 / 412 | Loss: 0.0675\n",
      "Epoch 1 / 5 | Step 400 / 412 | Loss: 0.0585\n",
      "Epoch 2 / 5 | Step 100 / 412 | Loss: 0.0588\n",
      "Epoch 2 / 5 | Step 200 / 412 | Loss: 0.0624\n",
      "Epoch 2 / 5 | Step 300 / 412 | Loss: 0.0638\n",
      "Epoch 2 / 5 | Step 400 / 412 | Loss: 0.0620\n",
      "Epoch 3 / 5 | Step 100 / 412 | Loss: 0.0565\n",
      "Epoch 3 / 5 | Step 200 / 412 | Loss: 0.0542\n",
      "Epoch 3 / 5 | Step 300 / 412 | Loss: 0.0573\n",
      "Epoch 3 / 5 | Step 400 / 412 | Loss: 0.0528\n",
      "Epoch 4 / 5 | Step 100 / 412 | Loss: 0.0609\n",
      "Epoch 4 / 5 | Step 200 / 412 | Loss: 0.0516\n",
      "Epoch 4 / 5 | Step 300 / 412 | Loss: 0.0498\n",
      "Epoch 4 / 5 | Step 400 / 412 | Loss: 0.0473\n",
      "Epoch 5 / 5 | Step 100 / 412 | Loss: 0.0506\n",
      "Epoch 5 / 5 | Step 200 / 412 | Loss: 0.0403\n",
      "Epoch 5 / 5 | Step 300 / 412 | Loss: 0.0449\n",
      "Epoch 5 / 5 | Step 400 / 412 | Loss: 0.0491\n",
      "--- Training Finished ---\n",
      "Accuracy of the Model: 65.38461538461539 %\n",
      "Accuracy of pawn: 100.0 %\n",
      "Accuracy of queen: 0.0 %\n",
      "Accuracy of rook: 50.0 %\n",
      "Accuracy of bishop: 0.0 %\n",
      "Accuracy of king: 50.0 %\n",
      "Accuracy of knight: 80.0 %\n"
     ]
    }
   ],
   "source": [
    "# Variables for\n",
    "n_total_steps = len(train_loader)\n",
    "mean_loss = 0\n",
    "\n",
    "for epoch in range(num_epochs):\n",
    "    for i, (images, labels) in enumerate(train_loader):\n",
    "        # Origin shape: [4, 3, 32, 32] = 4, 3, 1024\n",
    "        # input_layer: 3 input channels, 6 output channels, 5 kernel size\n",
    "        images = images.to(GPU)\n",
    "        labels = labels.to(GPU)\n",
    "\n",
    "        # Forward pass\n",
    "        outputs = model(images)\n",
    "        loss = criterion(outputs, labels)\n",
    "        mean_loss += loss.item()\n",
    "\n",
    "        # Backward & optimize\n",
    "        optimizer.zero_grad()\n",
    "        loss.backward()\n",
    "        optimizer.step()\n",
    "\n",
    "        if (i+1) % 100 == 0:\n",
    "            print(f'Epoch {epoch + 1} / {num_epochs} | Step {i+1} / {n_total_steps} | '\n",
    "                  f'Loss: {(mean_loss/2000):.4f}')\n",
    "            mean_loss = 0\n",
    "\n",
    "print('--- Training Finished ---')\n",
    "PATH = './chess.pth'\n",
    "torch.save(model.state_dict(), PATH)\n",
    "\n",
    "with torch.no_grad():\n",
    "    n_correct = 0\n",
    "    n_samples = 0\n",
    "    n_class_correct = [0 for i in range(6)]\n",
    "    n_class_samples = [0 for i in range(6)]\n",
    "    for images, labels in test_loader:\n",
    "        images = images.to(GPU)\n",
    "        labels = labels.to(GPU)\n",
    "        outputs = model(images)\n",
    "        # max returns (value ,index)\n",
    "        _, predicted = torch.max(outputs, 1)\n",
    "        n_samples += labels.size(0)\n",
    "        n_correct += (predicted == labels).sum().item()\n",
    "\n",
    "        for i in range(batch_size):\n",
    "            label = labels[i]\n",
    "            pred = predicted[i]\n",
    "            if label == pred:\n",
    "                n_class_correct[label] += 1\n",
    "            n_class_samples[label] += 1\n",
    "\n",
    "    accuracy = 100.0 * n_correct / n_samples\n",
    "    print(f'Accuracy of the Model: {accuracy} %')\n",
    "\n",
    "    for i in range(6):\n",
    "        accuracy = 100.0 * n_class_correct[i] / n_class_samples[i]\n",
    "        print(f'Accuracy of {CATEGORIES[i]}: {accuracy} %')"
   ],
   "metadata": {
    "collapsed": false
   }
  }
 ],
 "metadata": {
  "kernelspec": {
   "display_name": "Python 3",
   "language": "python",
   "name": "python3"
  },
  "language_info": {
   "codemirror_mode": {
    "name": "ipython",
    "version": 2
   },
   "file_extension": ".py",
   "mimetype": "text/x-python",
   "name": "python",
   "nbconvert_exporter": "python",
   "pygments_lexer": "ipython2",
   "version": "2.7.6"
  }
 },
 "nbformat": 4,
 "nbformat_minor": 0
}
